{
 "cells": [
  {
   "cell_type": "code",
   "execution_count": 51,
   "metadata": {
    "collapsed": false
   },
   "outputs": [],
   "source": [
    "import csv\n",
    "from collections import defaultdict\n",
    "from operator import itemgetter \n",
    "import dateutil.parser"
   ]
  },
  {
   "cell_type": "code",
   "execution_count": 52,
   "metadata": {
    "collapsed": true
   },
   "outputs": [],
   "source": [
    "turnstile = defaultdict(list)\n",
    "turnstilets = defaultdict(list)"
   ]
  },
  {
   "cell_type": "code",
   "execution_count": 53,
   "metadata": {
    "collapsed": false
   },
   "outputs": [],
   "source": [
    "with open('turnstile.csv', 'rb') as ts:\n",
    "    tsdata = csv.reader(ts)\n",
    "    header = tsdata.next()\n",
    "    i = 0\n",
    "    for row in tsdata:\n",
    "        key = row[:4]\n",
    "        key = tuple(key)\n",
    "        v = row[4:]\n",
    "        vts = row[6] + \", \" + row[7]\n",
    "        vts = dateutil.parser.parse(vts)\n",
    "        tsvalue = list()\n",
    "        tsvalue.append(vts)\n",
    "        tsvalue.append(int(row[9]))\n",
    "        turnstile[key].append(v)\n",
    "        turnstilets[key].append(tsvalue)"
   ]
  },
  {
   "cell_type": "code",
   "execution_count": 54,
   "metadata": {
    "collapsed": false
   },
   "outputs": [
    {
     "data": {
      "text/plain": [
       "[[datetime.datetime(2016, 1, 2, 3, 0), 5478180],\n",
       " [datetime.datetime(2016, 1, 2, 7, 0), 5478183],\n",
       " [datetime.datetime(2016, 1, 2, 11, 0), 5478262],\n",
       " [datetime.datetime(2016, 1, 2, 15, 0), 5478519],\n",
       " [datetime.datetime(2016, 1, 2, 19, 0), 5478940],\n",
       " [datetime.datetime(2016, 1, 2, 23, 0), 5479213],\n",
       " [datetime.datetime(2016, 1, 3, 3, 0), 5479279],\n",
       " [datetime.datetime(2016, 1, 3, 7, 0), 5479282],\n",
       " [datetime.datetime(2016, 1, 3, 11, 0), 5479344],\n",
       " [datetime.datetime(2016, 1, 3, 15, 0), 5479558],\n",
       " [datetime.datetime(2016, 1, 3, 19, 0), 5479861],\n",
       " [datetime.datetime(2016, 1, 3, 23, 0), 5480016],\n",
       " [datetime.datetime(2016, 1, 4, 3, 0), 5480037],\n",
       " [datetime.datetime(2016, 1, 4, 7, 0), 5480054],\n",
       " [datetime.datetime(2016, 1, 4, 11, 0), 5480267],\n",
       " [datetime.datetime(2016, 1, 4, 15, 0), 5480499],\n",
       " [datetime.datetime(2016, 1, 4, 19, 0), 5481461],\n",
       " [datetime.datetime(2016, 1, 4, 23, 0), 5481770],\n",
       " [datetime.datetime(2016, 1, 5, 3, 0), 5481795],\n",
       " [datetime.datetime(2016, 1, 5, 7, 0), 5481808],\n",
       " [datetime.datetime(2016, 1, 5, 11, 0), 5481983],\n",
       " [datetime.datetime(2016, 1, 5, 15, 0), 5482235],\n",
       " [datetime.datetime(2016, 1, 5, 19, 0), 5483044],\n",
       " [datetime.datetime(2016, 1, 5, 23, 0), 5483391],\n",
       " [datetime.datetime(2016, 1, 6, 3, 0), 5483436],\n",
       " [datetime.datetime(2016, 1, 6, 7, 0), 5483458],\n",
       " [datetime.datetime(2016, 1, 6, 11, 0), 5483626],\n",
       " [datetime.datetime(2016, 1, 6, 15, 0), 5483826],\n",
       " [datetime.datetime(2016, 1, 6, 19, 0), 5484778],\n",
       " [datetime.datetime(2016, 1, 6, 23, 0), 5485169],\n",
       " [datetime.datetime(2016, 1, 7, 3, 0), 5485220],\n",
       " [datetime.datetime(2016, 1, 7, 7, 0), 5485234],\n",
       " [datetime.datetime(2016, 1, 7, 11, 0), 5485391],\n",
       " [datetime.datetime(2016, 1, 7, 15, 0), 5485637],\n",
       " [datetime.datetime(2016, 1, 7, 19, 0), 5486605],\n",
       " [datetime.datetime(2016, 1, 7, 23, 0), 5487003],\n",
       " [datetime.datetime(2016, 1, 8, 3, 0), 5487058],\n",
       " [datetime.datetime(2016, 1, 8, 7, 0), 5487070],\n",
       " [datetime.datetime(2016, 1, 8, 11, 0), 5487262],\n",
       " [datetime.datetime(2016, 1, 8, 15, 0), 5487542],\n",
       " [datetime.datetime(2016, 1, 8, 19, 0), 5488493],\n",
       " [datetime.datetime(2016, 1, 8, 23, 0), 5488911],\n",
       " [datetime.datetime(2015, 12, 26, 7, 0), 5469543],\n",
       " [datetime.datetime(2015, 12, 26, 11, 0), 5469617],\n",
       " [datetime.datetime(2015, 12, 26, 15, 0), 5469821],\n",
       " [datetime.datetime(2015, 12, 26, 19, 0), 5470180],\n",
       " [datetime.datetime(2015, 12, 26, 23, 0), 5470411],\n",
       " [datetime.datetime(2015, 12, 27, 3, 0), 5470459],\n",
       " [datetime.datetime(2015, 12, 27, 7, 0), 5470479],\n",
       " [datetime.datetime(2015, 12, 27, 11, 0), 5470529],\n",
       " [datetime.datetime(2015, 12, 27, 15, 0), 5470679],\n",
       " [datetime.datetime(2015, 12, 27, 19, 0), 5470922],\n",
       " [datetime.datetime(2015, 12, 27, 23, 0), 5471087],\n",
       " [datetime.datetime(2015, 12, 28, 3, 0), 5471115],\n",
       " [datetime.datetime(2015, 12, 28, 7, 0), 5471132],\n",
       " [datetime.datetime(2015, 12, 28, 11, 0), 5471271],\n",
       " [datetime.datetime(2015, 12, 28, 15, 0), 5471564],\n",
       " [datetime.datetime(2015, 12, 28, 19, 0), 5472356],\n",
       " [datetime.datetime(2015, 12, 28, 23, 0), 5472688],\n",
       " [datetime.datetime(2015, 12, 29, 3, 0), 5472726],\n",
       " [datetime.datetime(2015, 12, 29, 7, 0), 5472739],\n",
       " [datetime.datetime(2015, 12, 29, 11, 0), 5472855],\n",
       " [datetime.datetime(2015, 12, 29, 15, 0), 5473116],\n",
       " [datetime.datetime(2015, 12, 29, 19, 0), 5473915],\n",
       " [datetime.datetime(2015, 12, 29, 23, 0), 5474280],\n",
       " [datetime.datetime(2015, 12, 30, 3, 0), 5474342],\n",
       " [datetime.datetime(2015, 12, 30, 7, 0), 5474353],\n",
       " [datetime.datetime(2015, 12, 30, 11, 0), 5474520],\n",
       " [datetime.datetime(2015, 12, 30, 15, 0), 5474827],\n",
       " [datetime.datetime(2015, 12, 30, 19, 0), 5475662],\n",
       " [datetime.datetime(2015, 12, 30, 23, 0), 5476038],\n",
       " [datetime.datetime(2015, 12, 31, 3, 0), 5476085],\n",
       " [datetime.datetime(2015, 12, 31, 7, 0), 5476100],\n",
       " [datetime.datetime(2015, 12, 31, 11, 0), 5476212],\n",
       " [datetime.datetime(2015, 12, 31, 15, 0), 5476648],\n",
       " [datetime.datetime(2015, 12, 31, 19, 0), 5477257],\n",
       " [datetime.datetime(2015, 12, 31, 23, 0), 5477402],\n",
       " [datetime.datetime(2016, 1, 1, 3, 0), 5477487],\n",
       " [datetime.datetime(2016, 1, 1, 7, 0), 5477508],\n",
       " [datetime.datetime(2016, 1, 1, 11, 0), 5477548],\n",
       " [datetime.datetime(2016, 1, 1, 15, 0), 5477676],\n",
       " [datetime.datetime(2016, 1, 1, 19, 0), 5477962],\n",
       " [datetime.datetime(2016, 1, 1, 23, 0), 5478127]]"
      ]
     },
     "execution_count": 54,
     "metadata": {},
     "output_type": "execute_result"
    }
   ],
   "source": [
    "turnstilets['A002','R051','02-00-00','59 ST']"
   ]
  },
  {
   "cell_type": "code",
   "execution_count": null,
   "metadata": {
    "collapsed": true
   },
   "outputs": [],
   "source": []
  }
 ],
 "metadata": {
  "kernelspec": {
   "display_name": "Python 2",
   "language": "python",
   "name": "python2"
  },
  "language_info": {
   "codemirror_mode": {
    "name": "ipython",
    "version": 2
   },
   "file_extension": ".py",
   "mimetype": "text/x-python",
   "name": "python",
   "nbconvert_exporter": "python",
   "pygments_lexer": "ipython2",
   "version": "2.7.10"
  }
 },
 "nbformat": 4,
 "nbformat_minor": 0
}
