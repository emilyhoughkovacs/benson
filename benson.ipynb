{
 "cells": [
  {
   "cell_type": "code",
   "execution_count": 3,
   "metadata": {
    "collapsed": false
   },
   "outputs": [],
   "source": [
    "import csv\n",
    "from collections import defaultdict\n",
    "from operator import itemgetter \n",
    "import dateutil.parser"
   ]
  },
  {
   "cell_type": "code",
   "execution_count": 4,
   "metadata": {
    "collapsed": true
   },
   "outputs": [],
   "source": [
    "turnstile = defaultdict(list)\n",
    "turnstilets = defaultdict(list)"
   ]
  },
  {
   "cell_type": "markdown",
   "metadata": {},
   "source": [
    "Q1. Read CSV, make dict where key is first 4 and value is rest. (turnstile)<br>\n",
    "Q2. Combine Date and Time to datetime object, drop everything in value except datetime and entries"
   ]
  },
  {
   "cell_type": "code",
   "execution_count": 5,
   "metadata": {
    "collapsed": false
   },
   "outputs": [],
   "source": [
    "with open('turnstile.csv', 'rb') as ts:\n",
    "    tsdata = csv.reader(ts)\n",
    "    header = tsdata.next()\n",
    "    for row in tsdata:\n",
    "        key = row[:4]\n",
    "        key = tuple(key)\n",
    "        # v is the value for Q1\n",
    "        v = row[4:]\n",
    "        # vts is datetime value - date and timestamp\n",
    "        vts = row[6] + \", \" + row[7]\n",
    "        vts = dateutil.parser.parse(vts)\n",
    "        # tsvalue is value for Q2\n",
    "        tsvalue = list()\n",
    "        tsvalue.append(vts)\n",
    "        tsvalue.append(int(row[9]))\n",
    "        # Q1\n",
    "        turnstile[key].append(v)\n",
    "        # Q2\n",
    "        turnstilets[key].append(tsvalue)"
   ]
  },
  {
   "cell_type": "code",
   "execution_count": null,
   "metadata": {
    "collapsed": true
   },
   "outputs": [],
   "source": [
    "turnstilets['A002','R051','02-00-00','59 ST']"
   ]
  },
  {
   "cell_type": "markdown",
   "metadata": {
    "collapsed": true
   },
   "source": [
    "Q3. Every n hours (n = 4). We want daily totals. The total is cumulative so you must subtract."
   ]
  },
  {
   "cell_type": "code",
   "execution_count": 12,
   "metadata": {
    "collapsed": false
   },
   "outputs": [],
   "source": [
    "daily = defaultdict(list)\n",
    "for k, v in turnstilets.iteritems():\n",
    "    previous = 0\n",
    "    current = 0\n",
    "    delta = 0\n",
    "    for line in v:\n",
    "        if v.index(line) % 6 == 0:\n",
    "            dailyvalue = []\n",
    "            # convert datetime to date and append to daily value\n",
    "            dailyvalue.append(line[0].date())\n",
    "            # current is entries\n",
    "            current = line[1]\n",
    "            # today's minus yesterday's\n",
    "            delta = current - previous\n",
    "            dailyvalue.append(delta)\n",
    "            # append date/value pair to key\n",
    "            # exclude first date of every key\n",
    "            if previous != 0 and delta >= 0: \n",
    "                daily[k].append(dailyvalue)\n",
    "            previous = current"
   ]
  },
  {
   "cell_type": "code",
   "execution_count": 6,
   "metadata": {
    "collapsed": false
   },
   "outputs": [
    {
     "data": {
      "text/plain": [
       "[[datetime.date(2016, 1, 3), 1099],\n",
       " [datetime.date(2016, 1, 4), 758],\n",
       " [datetime.date(2016, 1, 5), 1758],\n",
       " [datetime.date(2016, 1, 6), 1641]]"
      ]
     },
     "execution_count": 6,
     "metadata": {},
     "output_type": "execute_result"
    }
   ],
   "source": [
    "daily['A002','R051','02-00-00','59 ST'][0:4]"
   ]
  },
  {
   "cell_type": "markdown",
   "metadata": {},
   "source": [
    "Q4. plot the daily time series for one turnstile"
   ]
  },
  {
   "cell_type": "code",
   "execution_count": 7,
   "metadata": {
    "collapsed": true
   },
   "outputs": [],
   "source": [
    "%matplotlib inline\n",
    "import matplotlib.pyplot as plt"
   ]
  },
  {
   "cell_type": "markdown",
   "metadata": {},
   "source": [
    "Take the list of [(date1, count1), (date2, count2), ...], for the turnstile and turn it into two lists: dates and counts."
   ]
  },
  {
   "cell_type": "code",
   "execution_count": 1,
   "metadata": {
    "collapsed": false
   },
   "outputs": [
    {
     "ename": "NameError",
     "evalue": "name 'daily' is not defined",
     "output_type": "error",
     "traceback": [
      "\u001b[0;31m---------------------------------------------------------------------------\u001b[0m",
      "\u001b[0;31mNameError\u001b[0m                                 Traceback (most recent call last)",
      "\u001b[0;32m<ipython-input-1-9bc96aef6b7f>\u001b[0m in \u001b[0;36m<module>\u001b[0;34m()\u001b[0m\n\u001b[0;32m----> 1\u001b[0;31m \u001b[0mdates\u001b[0m \u001b[0;34m=\u001b[0m \u001b[0;34m[\u001b[0m\u001b[0md\u001b[0m \u001b[0;32mfor\u001b[0m \u001b[0md\u001b[0m\u001b[0;34m,\u001b[0m \u001b[0mc\u001b[0m \u001b[0;32min\u001b[0m \u001b[0mdaily\u001b[0m\u001b[0;34m[\u001b[0m\u001b[0;34m'A002'\u001b[0m\u001b[0;34m,\u001b[0m\u001b[0;34m'R051'\u001b[0m\u001b[0;34m,\u001b[0m\u001b[0;34m'02-00-00'\u001b[0m\u001b[0;34m,\u001b[0m\u001b[0;34m'59 ST'\u001b[0m\u001b[0;34m]\u001b[0m\u001b[0;34m]\u001b[0m\u001b[0;34m.\u001b[0m\u001b[0msort\u001b[0m\u001b[0;34m(\u001b[0m\u001b[0;34m)\u001b[0m\u001b[0;34m\u001b[0m\u001b[0m\n\u001b[0m\u001b[1;32m      2\u001b[0m \u001b[0mcounts\u001b[0m \u001b[0;34m=\u001b[0m \u001b[0;34m[\u001b[0m\u001b[0mc\u001b[0m \u001b[0;32mfor\u001b[0m \u001b[0md\u001b[0m\u001b[0;34m,\u001b[0m \u001b[0mc\u001b[0m \u001b[0;32min\u001b[0m \u001b[0mdaily\u001b[0m\u001b[0;34m[\u001b[0m\u001b[0;34m'A002'\u001b[0m\u001b[0;34m,\u001b[0m\u001b[0;34m'R051'\u001b[0m\u001b[0;34m,\u001b[0m\u001b[0;34m'02-00-00'\u001b[0m\u001b[0;34m,\u001b[0m\u001b[0;34m'59 ST'\u001b[0m\u001b[0;34m]\u001b[0m\u001b[0;34m]\u001b[0m\u001b[0;34m.\u001b[0m\u001b[0msort\u001b[0m\u001b[0;34m(\u001b[0m\u001b[0;34m)\u001b[0m\u001b[0;34m\u001b[0m\u001b[0m\n",
      "\u001b[0;31mNameError\u001b[0m: name 'daily' is not defined"
     ]
    }
   ],
   "source": [
    "dates = [d for d, c in daily['A002','R051','02-00-00','59 ST'].sort()]\n",
    "counts = [c for d, c in daily['A002','R051','02-00-00','59 ST'].sort()]"
   ]
  },
  {
   "cell_type": "code",
   "execution_count": 14,
   "metadata": {
    "collapsed": false
   },
   "outputs": [
    {
     "data": {
      "text/plain": [
       "[<matplotlib.lines.Line2D at 0x102a13f10>]"
      ]
     },
     "execution_count": 14,
     "metadata": {},
     "output_type": "execute_result"
    },
    {
     "data": {
      "image/png": "[encoded data removed]",
      "text/plain": [
       "<matplotlib.figure.Figure at 0x102abad50>"
      ]
     },
     "metadata": {},
     "output_type": "display_data"
    }
   ],
   "source": [
    "plt.figure(figsize=(10,3))\n",
    "plt.plot(dates,counts)"
   ]
  },
  {
   "cell_type": "markdown",
   "metadata": {},
   "source": [
    "Q5. Combine turnstiles at each ControlArea/Unit/Station combination."
   ]
  },
  {
   "cell_type": "code",
   "execution_count": null,
   "metadata": {
    "collapsed": true
   },
   "outputs": [],
   "source": []
  }
 ],
 "metadata": {
  "kernelspec": {
   "display_name": "Python 2",
   "language": "python",
   "name": "python2"
  },
  "language_info": {
   "codemirror_mode": {
    "name": "ipython",
    "version": 2
   },
   "file_extension": ".py",
   "mimetype": "text/x-python",
   "name": "python",
   "nbconvert_exporter": "python",
   "pygments_lexer": "ipython2",
   "version": "2.7.10"
  }
 },
 "nbformat": 4,
 "nbformat_minor": 0
}
