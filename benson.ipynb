{
 "cells": [
  {
   "cell_type": "code",
   "execution_count": 19,
   "metadata": {
    "collapsed": false
   },
   "outputs": [
    {
     "name": "stdout",
     "output_type": "stream",
     "text": [
      "  % Total    % Received % Xferd  Average Speed   Time    Time     Time  Current\n",
      "                                 Dload  Upload   Total   Spent    Left  Speed\n",
      "100 24.1M    0 24.1M    0     0   252k      0 --:--:--  0:01:37 --:--:--  275k\n",
      "  % Total    % Received % Xferd  Average Speed   Time    Time     Time  Current\n",
      "                                 Dload  Upload   Total   Spent    Left  Speed\n",
      "100 24.4M    0 24.4M    0     0   311k      0 --:--:--  0:01:20 --:--:--  223k\n",
      "  % Total    % Received % Xferd  Average Speed   Time    Time     Time  Current\n",
      "                                 Dload  Upload   Total   Spent    Left  Speed\n",
      "100 23.9M    0 23.9M    0     0   305k      0 --:--:--  0:01:20 --:--:--  310k\n",
      "  % Total    % Received % Xferd  Average Speed   Time    Time     Time  Current\n",
      "                                 Dload  Upload   Total   Spent    Left  Speed\n",
      "100 24.1M    0 24.1M    0     0   324k      0 --:--:--  0:01:16 --:--:-- 97734\n",
      "  % Total    % Received % Xferd  Average Speed   Time    Time     Time  Current\n",
      "                                 Dload  Upload   Total   Spent    Left  Speed\n",
      "100 24.0M    0 24.0M    0     0   288k      0 --:--:--  0:01:25 --:--:--  474k\n",
      "  % Total    % Received % Xferd  Average Speed   Time    Time     Time  Current\n",
      "                                 Dload  Upload   Total   Spent    Left  Speed\n",
      "100 24.2M    0 24.2M    0     0   551k      0 --:--:--  0:00:44 --:--:--  425k\n",
      "  % Total    % Received % Xferd  Average Speed   Time    Time     Time  Current\n",
      "                                 Dload  Upload   Total   Spent    Left  Speed\n",
      "100 24.2M    0 24.2M    0     0   398k      0 --:--:--  0:01:02 --:--:--  415k\n"
     ]
    }
   ],
   "source": [
    "# !curl -O http://web.mta.info/developers/data/nyct/turnstile/turnstile_160116.txt > turnstile_160116.csv\n",
    "# !curl -O http://web.mta.info/developers/data/nyct/turnstile/turnstile_160109.txt > turnstile_160109.csv\n",
    "# !curl -O http://web.mta.info/developers/data/nyct/turnstile/turnstile_160102.txt > turnstile_160102.csv\n",
    "# !curl -O http://web.mta.info/developers/data/nyct/turnstile/turnstile_151226.txt > turnstile_151226.csv\n",
    "# !curl -O http://web.mta.info/developers/data/nyct/turnstile/turnstile_151219.txt > turnstile_151219.csv\n",
    "# !curl -O http://web.mta.info/developers/data/nyct/turnstile/turnstile_151212.txt > turnstile_151212.csv\n",
    "# !curl -O http://web.mta.info/developers/data/nyct/turnstile/turnstile_151205.txt > turnstile_151205.csv"
   ]
  },
  {
   "cell_type": "code",
   "execution_count": null,
   "metadata": {
    "collapsed": true
   },
   "outputs": [],
   "source": [
    "# !touch turnstile.csv\n",
    "# !cat turnstile_160116.csv >> turnstile.csv"
   ]
  },
  {
   "cell_type": "code",
   "execution_count": 20,
   "metadata": {
    "collapsed": false
   },
   "outputs": [],
   "source": [
    "import csv\n",
    "from collections import defaultdict\n",
    "from operator import itemgetter \n",
    "import dateutil.parser"
   ]
  },
  {
   "cell_type": "code",
   "execution_count": 21,
   "metadata": {
    "collapsed": true
   },
   "outputs": [],
   "source": [
    "turnstile = defaultdict(list)\n",
    "turnstilets = defaultdict(list)"
   ]
  },
  {
   "cell_type": "markdown",
   "metadata": {},
   "source": [
    "#####Q1. Read CSV, make dict where key is first 4 and value is rest. (turnstile)<br>\n",
    "#####Q2. Combine Date and Time to datetime object, drop everything in value except datetime and entries"
   ]
  },
  {
   "cell_type": "code",
   "execution_count": 22,
   "metadata": {
    "collapsed": false
   },
   "outputs": [],
   "source": [
    "with open('old_turnstile.csv', 'rb') as ts:\n",
    "    tsdata = csv.reader(ts)\n",
    "    header = tsdata.next()\n",
    "    for row in tsdata:\n",
    "        key = row[:4]\n",
    "        key = tuple(key)\n",
    "        # v is the value for Q1\n",
    "        v = row[4:]\n",
    "        # vts is datetime value - date and timestamp\n",
    "        vts = row[6] + \", \" + row[7]\n",
    "        vts = dateutil.parser.parse(vts)\n",
    "        # tsvalue is value for Q2\n",
    "        tsvalue = list()\n",
    "        tsvalue.append(vts)\n",
    "        tsvalue.append(int(row[9]))\n",
    "        # Q1\n",
    "        turnstile[key].append(v)\n",
    "        # Q2\n",
    "        turnstilets[key].append(tsvalue)"
   ]
  },
  {
   "cell_type": "code",
   "execution_count": 23,
   "metadata": {
    "collapsed": false
   },
   "outputs": [
    {
     "data": {
      "text/plain": [
       "[[datetime.datetime(2016, 1, 2, 3, 0), 5478180],\n",
       " [datetime.datetime(2016, 1, 2, 7, 0), 5478183],\n",
       " [datetime.datetime(2016, 1, 2, 11, 0), 5478262],\n",
       " [datetime.datetime(2016, 1, 2, 15, 0), 5478519],\n",
       " [datetime.datetime(2016, 1, 2, 19, 0), 5478940],\n",
       " [datetime.datetime(2016, 1, 2, 23, 0), 5479213],\n",
       " [datetime.datetime(2016, 1, 3, 3, 0), 5479279],\n",
       " [datetime.datetime(2016, 1, 3, 7, 0), 5479282],\n",
       " [datetime.datetime(2016, 1, 3, 11, 0), 5479344],\n",
       " [datetime.datetime(2016, 1, 3, 15, 0), 5479558]]"
      ]
     },
     "execution_count": 23,
     "metadata": {},
     "output_type": "execute_result"
    }
   ],
   "source": [
    "turnstilets['A002','R051','02-00-00','59 ST'][0:10]"
   ]
  },
  {
   "cell_type": "markdown",
   "metadata": {
    "collapsed": true
   },
   "source": [
    "#####Q3. Every n hours (n = 4). We want daily totals. The total is cumulative so you must subtract."
   ]
  },
  {
   "cell_type": "code",
   "execution_count": 24,
   "metadata": {
    "collapsed": false
   },
   "outputs": [],
   "source": [
    "daily = defaultdict(list)\n",
    "for k, v in turnstilets.iteritems():\n",
    "    previous = 0\n",
    "    current = 0\n",
    "    delta = 0\n",
    "    for line in v:\n",
    "        if v.index(line) % 6 == 0:\n",
    "            dailyvalue = []\n",
    "            # convert datetime to date and append to daily value\n",
    "            dailyvalue.append(line[0].date())\n",
    "            # current is entries\n",
    "            current = line[1]\n",
    "            # today's minus yesterday's\n",
    "            delta = current - previous\n",
    "            dailyvalue.append(delta)\n",
    "            # append date/value pair to key\n",
    "            # exclude first date of every key\n",
    "            if previous != 0 and delta >= 0: \n",
    "                daily[k].append(dailyvalue)\n",
    "            previous = current"
   ]
  },
  {
   "cell_type": "code",
   "execution_count": 7,
   "metadata": {
    "collapsed": false
   },
   "outputs": [
    {
     "data": {
      "text/plain": [
       "[[datetime.date(2016, 1, 3), 1099],\n",
       " [datetime.date(2016, 1, 4), 758],\n",
       " [datetime.date(2016, 1, 5), 1758],\n",
       " [datetime.date(2016, 1, 6), 1641]]"
      ]
     },
     "execution_count": 7,
     "metadata": {},
     "output_type": "execute_result"
    }
   ],
   "source": [
    "daily['A002','R051','02-00-00','59 ST'][0:4]"
   ]
  },
  {
   "cell_type": "markdown",
   "metadata": {},
   "source": [
    "#####Q4. plot the daily time series for one turnstile"
   ]
  },
  {
   "cell_type": "code",
   "execution_count": 25,
   "metadata": {
    "collapsed": true
   },
   "outputs": [],
   "source": [
    "%matplotlib inline\n",
    "import matplotlib.pyplot as plt"
   ]
  },
  {
   "cell_type": "markdown",
   "metadata": {},
   "source": [
    "Take the list of [(date1, count1), (date2, count2), ...], for the turnstile and turn it into two lists: dates and counts."
   ]
  },
  {
   "cell_type": "code",
   "execution_count": 26,
   "metadata": {
    "collapsed": false
   },
   "outputs": [],
   "source": [
    "dates = [d for d, c in sorted(daily['A002','R051','02-00-00','59 ST'])]\n",
    "counts = [c for d, c in sorted(daily['A002','R051','02-00-00','59 ST'])]"
   ]
  },
  {
   "cell_type": "code",
   "execution_count": 27,
   "metadata": {
    "collapsed": false
   },
   "outputs": [
    {
     "data": {
      "text/plain": [
       "[<matplotlib.lines.Line2D at 0x106ee28d0>]"
      ]
     },
     "execution_count": 27,
     "metadata": {},
     "output_type": "execute_result"
    },
    {
     "data": {
      "image/png": "[encoded data removed]",
      "text/plain": [
       "<matplotlib.figure.Figure at 0x107ce8a10>"
      ]
     },
     "metadata": {},
     "output_type": "display_data"
    }
   ],
   "source": [
    "plt.figure(figsize=(10,3))\n",
    "plt.plot(dates,counts)"
   ]
  },
  {
   "cell_type": "markdown",
   "metadata": {},
   "source": [
    "#####Q5. Combine turnstiles at each ControlArea/Unit/Station combination."
   ]
  },
  {
   "cell_type": "code",
   "execution_count": 28,
   "metadata": {
    "collapsed": false
   },
   "outputs": [],
   "source": [
    "units = defaultdict(list)\n",
    "\n",
    "# make keys CA/Unit/Station\n",
    "for k, v in daily.iteritems():\n",
    "    key = k[0:2]+k[3:]\n",
    "    if key not in units:\n",
    "        units[key] = []\n",
    "    units[key].append(daily[k])\n",
    "\n",
    "chal5 = defaultdict(list)\n",
    "\n",
    "# unzip dates in {units} values\n",
    "# sum up entries across the same date\n",
    "# re-populate new dict {chal5}\n",
    "for k, v in units.items():\n",
    "    v = zip(*v)\n",
    "    chal5[k] = []\n",
    "    for dt in v:\n",
    "        dtsum = 0\n",
    "        for turnstile in dt:\n",
    "            dtsum += turnstile[1]\n",
    "        dtpair = [dt[0][0], dtsum]\n",
    "        chal5[k].append(dtpair)"
   ]
  },
  {
   "cell_type": "code",
   "execution_count": 29,
   "metadata": {
    "collapsed": false
   },
   "outputs": [
    {
     "data": {
      "text/plain": [
       "[[datetime.date(2016, 1, 3), 10830],\n",
       " [datetime.date(2016, 1, 4), 7982],\n",
       " [datetime.date(2016, 1, 5), 17156],\n",
       " [datetime.date(2016, 1, 6), 16463],\n",
       " [datetime.date(2016, 1, 7), 17865],\n",
       " [datetime.date(2016, 1, 8), 17924],\n",
       " [datetime.date(2015, 12, 27), 8885],\n",
       " [datetime.date(2015, 12, 28), 7751],\n",
       " [datetime.date(2015, 12, 29), 16091],\n",
       " [datetime.date(2015, 12, 30), 15811]]"
      ]
     },
     "execution_count": 29,
     "metadata": {},
     "output_type": "execute_result"
    }
   ],
   "source": [
    "chal5['A002','R051','59 ST'][0:10]"
   ]
  },
  {
   "cell_type": "markdown",
   "metadata": {
    "collapsed": true
   },
   "source": [
    "######Q6. Aggregate to station-level"
   ]
  },
  {
   "cell_type": "code",
   "execution_count": 30,
   "metadata": {
    "collapsed": false
   },
   "outputs": [],
   "source": [
    "# same as above. probs should've modularized in some way.\n",
    "temp6 = defaultdict(list)\n",
    "# make temp list and populate with keys of stations\n",
    "for k, v in chal5.iteritems():\n",
    "    key = k[2]\n",
    "    temp6[key].append(chal5[k])\n",
    "\n",
    "station = defaultdict(list)\n",
    "\n",
    "for k, v in temp6.items():\n",
    "    v = zip(*v)\n",
    "    for dt in v:\n",
    "        dtsum = 0\n",
    "        for unit in dt:\n",
    "            dtsum += unit[1]\n",
    "        dtpair = [dt[0][0], dtsum]\n",
    "        station[k].append(dtpair)"
   ]
  },
  {
   "cell_type": "markdown",
   "metadata": {},
   "source": [
    "#####Q7. Plot time-series for a station"
   ]
  },
  {
   "cell_type": "code",
   "execution_count": 31,
   "metadata": {
    "collapsed": false
   },
   "outputs": [
    {
     "name": "stdout",
     "output_type": "stream",
     "text": [
      "['CYPRESS AV', '5 AV/53 ST', 'NEWKIRK PLAZA', 'PATH WTC', 'HUNTS POINT AV', 'SUTTER AV', '149/GRAND CONC', 'BROAD ST', 'GRAND-NEWTOWN', 'EASTCHSTER/DYRE', 'HIGH ST', 'BEVERLY RD', 'ATLANTIC AV', 'WAKEFIELD/241', 'CROWN HTS-UTICA', 'VAN SICLEN AV', 'BEVERLEY ROAD', '18 AV', 'BRIARWOOD', '135 ST', 'CORTELYOU RD', 'LORIMER ST', '21 ST-QNSBRIDGE', 'VAN SICLEN AVE', 'SUTPHIN-ARCHER', '67 AV', 'BAY RIDGE AV', 'NECK RD', 'CYPRESS HILLS', '3 AV 138 ST', '14TH STREET', 'W 8 ST-AQUARIUM', '42 ST-BRYANT PK', 'BEACH 67 ST', '71 ST', 'NEWARK C', 'PRESIDENT ST', '116 ST-COLUMBIA', 'SUTTER AV-RUTLD', 'KOSCIUSZKO ST', '3 AV', 'BRONX PARK EAST', '8 ST-NYU', 'TIMES SQ-42 ST', '75 ST-ELDERTS', 'GROVE STREET', 'QUEENS PLAZA', 'CASTLE HILL AV', 'FRANKLIN AV', \"B'WAY-LAFAYETTE\"]\n"
     ]
    }
   ],
   "source": [
    "# sample some stations\n",
    "sample = [key for key in station.keys()[0:50]]\n",
    "print sample"
   ]
  },
  {
   "cell_type": "code",
   "execution_count": 32,
   "metadata": {
    "collapsed": false
   },
   "outputs": [],
   "source": [
    "dates_station = [d for d, c in sorted(station['CROWN HTS-UTICA'])]\n",
    "counts_station = [c for d, c in sorted(station['CROWN HTS-UTICA'])]"
   ]
  },
  {
   "cell_type": "code",
   "execution_count": 33,
   "metadata": {
    "collapsed": false
   },
   "outputs": [
    {
     "data": {
      "text/plain": [
       "[<matplotlib.lines.Line2D at 0x1032f5e50>]"
      ]
     },
     "execution_count": 33,
     "metadata": {},
     "output_type": "execute_result"
    },
    {
     "data": {
      "image/png": "[encoded data removed]",
      "text/plain": [
       "<matplotlib.figure.Figure at 0x113a8e290>"
      ]
     },
     "metadata": {},
     "output_type": "display_data"
    }
   ],
   "source": [
    "plt.figure(figsize=(10,3))\n",
    "plt.plot(dates_station, counts_station)"
   ]
  },
  {
   "cell_type": "markdown",
   "metadata": {},
   "source": [
    "#####Q8. Make list of counts for one week for one station. Plot by day of week."
   ]
  },
  {
   "cell_type": "code",
   "execution_count": 34,
   "metadata": {
    "collapsed": false
   },
   "outputs": [],
   "source": [
    "# just gonna add day of week to everything\n",
    "for k, v in station.items():\n",
    "    for dt in v:\n",
    "        dt.append(dt[0].strftime('%A'))"
   ]
  },
  {
   "cell_type": "code",
   "execution_count": 42,
   "metadata": {
    "collapsed": false
   },
   "outputs": [],
   "source": [
    "days_of_week = []\n",
    "for dt in dates_station:\n",
    "    days_of_week.append(dt.strftime('%A'))"
   ]
  },
  {
   "cell_type": "markdown",
   "metadata": {},
   "source": [
    "note to self: just realized dates_station has multiple dates on 12/31 and 1/7 ?? oh no?? why! probs bc of how I deal with nulls..."
   ]
  },
  {
   "cell_type": "code",
   "execution_count": 51,
   "metadata": {
    "collapsed": false
   },
   "outputs": [
    {
     "name": "stdout",
     "output_type": "stream",
     "text": [
      "['Sunday', 'Monday', 'Tuesday', 'Wednesday', 'Thursday', 'Thursday', 'Sunday', 'Monday', 'Tuesday', 'Wednesday', 'Thursday', 'Thursday', 'Friday']\n"
     ]
    }
   ],
   "source": [
    "print days_of_week"
   ]
  },
  {
   "cell_type": "code",
   "execution_count": 53,
   "metadata": {
    "collapsed": false
   },
   "outputs": [
    {
     "data": {
      "text/plain": [
       "([<matplotlib.axis.XTick at 0x105339a50>,\n",
       "  <matplotlib.axis.XTick at 0x105eb3790>,\n",
       "  <matplotlib.axis.XTick at 0x102d17b50>,\n",
       "  <matplotlib.axis.XTick at 0x106bf5c50>,\n",
       "  <matplotlib.axis.XTick at 0x106be13d0>,\n",
       "  <matplotlib.axis.XTick at 0x106be1b10>],\n",
       " <a list of 6 Text xticklabel objects>)"
      ]
     },
     "execution_count": 53,
     "metadata": {},
     "output_type": "execute_result"
    },
    {
     "data": {
      "image/png": "[encoded data removed]",
      "text/plain": [
       "<matplotlib.figure.Figure at 0x11182b090>"
      ]
     },
     "metadata": {},
     "output_type": "display_data"
    }
   ],
   "source": [
    "plt.figure(figsize=(10,3))\n",
    "plt.plot(counts_station[0:6])\n",
    "plt.plot(counts_station[6:12])\n",
    "plt.xticks([1, 2, 3, 4, 5, 6], days_of_week[0:7], rotation=45)"
   ]
  },
  {
   "cell_type": "markdown",
   "metadata": {},
   "source": [
    "##### Q9. Sum total ridership for each station and sort them"
   ]
  },
  {
   "cell_type": "code",
   "execution_count": 54,
   "metadata": {
    "collapsed": false
   },
   "outputs": [
    {
     "data": {
      "text/plain": [
       "[[datetime.date(2016, 1, 3), 2079, 'Sunday'],\n",
       " [datetime.date(2016, 1, 4), 1795, 'Monday'],\n",
       " [datetime.date(2016, 1, 5), 4012, 'Tuesday'],\n",
       " [datetime.date(2016, 1, 6), 4070, 'Wednesday'],\n",
       " [datetime.date(2016, 1, 7), 4103, 'Thursday'],\n",
       " [datetime.date(2016, 1, 8), 4263, 'Friday'],\n",
       " [datetime.date(2015, 12, 27), 2099, 'Sunday'],\n",
       " [datetime.date(2015, 12, 28), 1762, 'Monday'],\n",
       " [datetime.date(2015, 12, 29), 3488, 'Tuesday'],\n",
       " [datetime.date(2015, 12, 30), 3406, 'Wednesday'],\n",
       " [datetime.date(2015, 12, 31), 3526, 'Thursday'],\n",
       " [datetime.date(2016, 1, 1), 3463, 'Friday']]"
      ]
     },
     "execution_count": 54,
     "metadata": {},
     "output_type": "execute_result"
    }
   ],
   "source": [
    "station['CYPRESS AV']"
   ]
  },
  {
   "cell_type": "code",
   "execution_count": 55,
   "metadata": {
    "collapsed": true
   },
   "outputs": [],
   "source": [
    "total_by_station = {}"
   ]
  },
  {
   "cell_type": "code",
   "execution_count": 61,
   "metadata": {
    "collapsed": false
   },
   "outputs": [],
   "source": [
    "for k, v in station.items():\n",
    "    total_entries = 0\n",
    "    for date, entries, dayofweek in v:\n",
    "        total_entries += entries\n",
    "    total_by_station[k] = total_entries"
   ]
  },
  {
   "cell_type": "code",
   "execution_count": 62,
   "metadata": {
    "collapsed": false
   },
   "outputs": [
    {
     "data": {
      "text/plain": [
       "38066"
      ]
     },
     "execution_count": 62,
     "metadata": {},
     "output_type": "execute_result"
    }
   ],
   "source": [
    "total_by_station['CYPRESS AV']"
   ]
  },
  {
   "cell_type": "markdown",
   "metadata": {},
   "source": [
    "##### Q10. Plot sorted dict as histogram"
   ]
  },
  {
   "cell_type": "code",
   "execution_count": 77,
   "metadata": {
    "collapsed": false
   },
   "outputs": [
    {
     "name": "stdout",
     "output_type": "stream",
     "text": [
      "CYPRESS AV\n",
      "38066\n"
     ]
    }
   ],
   "source": [
    "station_keys = []\n",
    "total_ridership_counts = []\n",
    "for k, v in total_by_station.items():\n",
    "    station_keys.append(k)\n",
    "    total_ridership_counts.append(v)\n",
    "print station_keys[0]\n",
    "print total_ridership_counts[0]"
   ]
  },
  {
   "cell_type": "code",
   "execution_count": 78,
   "metadata": {
    "collapsed": false
   },
   "outputs": [
    {
     "name": "stdout",
     "output_type": "stream",
     "text": [
      "201653447 137 KINGS HWY\n",
      "1212671293 156 6 AV\n",
      "417536536 229 59 ST COLUMBUS\n",
      "1952433987 242 163 ST-AMSTERDM\n",
      "805492591 298 36 ST\n"
     ]
    }
   ],
   "source": [
    "for x in total_ridership_counts:\n",
    "    if x > 1.94243399e+08:\n",
    "        print x, total_ridership_counts.index(x), station_keys[total_ridership_counts.index(x)]"
   ]
  },
  {
   "cell_type": "code",
   "execution_count": 79,
   "metadata": {
    "collapsed": true
   },
   "outputs": [],
   "source": [
    "del total_ridership_counts[298]\n",
    "del station_keys[298]\n",
    "del total_ridership_counts[242]\n",
    "del station_keys[242]\n",
    "del total_ridership_counts[229]\n",
    "del station_keys[229]\n",
    "del total_ridership_counts[156]\n",
    "del station_keys[156]\n",
    "del total_ridership_counts[137]\n",
    "del station_keys[137]"
   ]
  },
  {
   "cell_type": "code",
   "execution_count": 80,
   "metadata": {
    "collapsed": false
   },
   "outputs": [
    {
     "data": {
      "text/plain": [
       "(array([ 364.,    1.,    0.,    0.,    0.,    0.,    1.,    0.,    0.,    1.]),\n",
       " array([  0.00000000e+00,   1.15590491e+07,   2.31180982e+07,\n",
       "          3.46771473e+07,   4.62361964e+07,   5.77952455e+07,\n",
       "          6.93542946e+07,   8.09133437e+07,   9.24723928e+07,\n",
       "          1.04031442e+08,   1.15590491e+08]),\n",
       " <a list of 10 Patch objects>)"
      ]
     },
     "execution_count": 80,
     "metadata": {},
     "output_type": "execute_result"
    },
    {
     "data": {
      "image/png": "[encoded data removed]",
      "text/plain": [
       "<matplotlib.figure.Figure at 0x105339cd0>"
      ]
     },
     "metadata": {},
     "output_type": "display_data"
    }
   ],
   "source": [
    "plt.hist(total_ridership_counts)"
   ]
  },
  {
   "cell_type": "code",
   "execution_count": 81,
   "metadata": {
    "collapsed": false
   },
   "outputs": [
    {
     "name": "stdout",
     "output_type": "stream",
     "text": [
      "2446266 20 135 ST\n",
      "75740753 50 47-50 STS ROCK\n",
      "2280082 59 RECTOR ST\n",
      "1272548 112 GRD CNTRL-42 ST\n",
      "1773384 152 FULTON ST\n",
      "1684046 194 34 ST-PENN STA\n",
      "115590491 241 JACKSON AV\n",
      "4144217 288 14 ST-UNION SQ\n",
      "12973472 293 UTICA AV\n",
      "1054057 321 86 ST\n",
      "1514243 362 THIRTY THIRD ST\n"
     ]
    }
   ],
   "source": [
    "for x in total_ridership_counts:\n",
    "    if x > 1000000:\n",
    "        print x, total_ridership_counts.index(x), station_keys[total_ridership_counts.index(x)]"
   ]
  },
  {
   "cell_type": "code",
   "execution_count": 82,
   "metadata": {
    "collapsed": true
   },
   "outputs": [],
   "source": [
    "del total_ridership_counts[362]\n",
    "del station_keys[362]\n",
    "del total_ridership_counts[321]\n",
    "del station_keys[321]\n",
    "del total_ridership_counts[293]\n",
    "del station_keys[293]\n",
    "del total_ridership_counts[288]\n",
    "del station_keys[288]\n",
    "del total_ridership_counts[241]\n",
    "del station_keys[241]\n",
    "del total_ridership_counts[194]\n",
    "del station_keys[194]\n",
    "del total_ridership_counts[152]\n",
    "del station_keys[152]\n",
    "del total_ridership_counts[112]\n",
    "del station_keys[112]\n",
    "del total_ridership_counts[59]\n",
    "del station_keys[50]\n",
    "del total_ridership_counts[20]\n",
    "del station_keys[20]"
   ]
  },
  {
   "cell_type": "code",
   "execution_count": 83,
   "metadata": {
    "collapsed": false
   },
   "outputs": [
    {
     "data": {
      "text/plain": [
       "(array([ 356.,    0.,    0.,    0.,    0.,    0.,    0.,    0.,    0.,    1.]),\n",
       " array([        0. ,   7574075.3,  15148150.6,  22722225.9,  30296301.2,\n",
       "         37870376.5,  45444451.8,  53018527.1,  60592602.4,  68166677.7,\n",
       "         75740753. ]),\n",
       " <a list of 10 Patch objects>)"
      ]
     },
     "execution_count": 83,
     "metadata": {},
     "output_type": "execute_result"
    },
    {
     "data": {
      "image/png": "[encoded data removed]",
      "text/plain": [
       "<matplotlib.figure.Figure at 0x108bff650>"
      ]
     },
     "metadata": {},
     "output_type": "display_data"
    }
   ],
   "source": [
    "plt.hist(total_ridership_counts)"
   ]
  },
  {
   "cell_type": "markdown",
   "metadata": {},
   "source": [
    "#####Conclusion"
   ]
  },
  {
   "cell_type": "markdown",
   "metadata": {},
   "source": [
    "At some level I messed up the summation of the data and ended up with wildly inflated (> 1 million for 2 week timeframe) data for roughly 20 stations. These were some of the most popular stations but the numbers were way off. At first I excluded some outliers but then I realized I was rendering my data meaningless. Furthermore, something with the way I made the time series removed all Saturday data and split Thursday data into two bins. Further investigation would be needed but at this point I need to move on to the Luther challenges so I am submitting for now and (hopefully) coming back to this."
   ]
  },
  {
   "cell_type": "code",
   "execution_count": null,
   "metadata": {
    "collapsed": true
   },
   "outputs": [],
   "source": []
  }
 ],
 "metadata": {
  "kernelspec": {
   "display_name": "Python 2",
   "language": "python",
   "name": "python2"
  },
  "language_info": {
   "codemirror_mode": {
    "name": "ipython",
    "version": 2
   },
   "file_extension": ".py",
   "mimetype": "text/x-python",
   "name": "python",
   "nbconvert_exporter": "python",
   "pygments_lexer": "ipython2",
   "version": "2.7.10"
  }
 },
 "nbformat": 4,
 "nbformat_minor": 0
}
