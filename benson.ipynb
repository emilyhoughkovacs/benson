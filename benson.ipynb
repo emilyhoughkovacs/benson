{
 "cells": [
  {
   "cell_type": "code",
   "execution_count": 2,
   "metadata": {
    "collapsed": true
   },
   "outputs": [],
   "source": [
    "# !curl -O http://web.mta.info/developers/data/nyct/turnstile/turnstile_150627.txt > turnstile_150627.csv"
   ]
  },
  {
   "cell_type": "code",
   "execution_count": 3,
   "metadata": {
    "collapsed": false
   },
   "outputs": [],
   "source": [
    "import csv\n",
    "from collections import defaultdict\n",
    "from operator import itemgetter \n",
    "import dateutil.parser"
   ]
  },
  {
   "cell_type": "code",
   "execution_count": 4,
   "metadata": {
    "collapsed": true
   },
   "outputs": [],
   "source": [
    "turnstile = defaultdict(list)\n",
    "turnstilets = defaultdict(list)"
   ]
  },
  {
   "cell_type": "markdown",
   "metadata": {},
   "source": [
    "#####Q1. Read CSV, make dict where key is first 4 and value is rest. (turnstile)<br>\n",
    "#####Q2. Combine Date and Time to datetime object, drop everything in value except datetime and entries"
   ]
  },
  {
   "cell_type": "code",
   "execution_count": 5,
   "metadata": {
    "collapsed": false
   },
   "outputs": [],
   "source": [
    "with open('turnstile.csv', 'rb') as ts:\n",
    "    tsdata = csv.reader(ts)\n",
    "    header = tsdata.next()\n",
    "    for row in tsdata:\n",
    "        key = row[:4]\n",
    "        key = tuple(key)\n",
    "        # v is the value for Q1\n",
    "        v = row[4:]\n",
    "        # vts is datetime value - date and timestamp\n",
    "        vts = row[6] + \", \" + row[7]\n",
    "        vts = dateutil.parser.parse(vts)\n",
    "        # tsvalue is value for Q2\n",
    "        tsvalue = list()\n",
    "        tsvalue.append(vts)\n",
    "        tsvalue.append(int(row[9]))\n",
    "        # Q1\n",
    "        turnstile[key].append(v)\n",
    "        # Q2\n",
    "        turnstilets[key].append(tsvalue)"
   ]
  },
  {
   "cell_type": "code",
   "execution_count": 6,
   "metadata": {
    "collapsed": false
   },
   "outputs": [
    {
     "data": {
      "text/plain": [
       "[[datetime.datetime(2016, 1, 2, 3, 0), 5478180],\n",
       " [datetime.datetime(2016, 1, 2, 7, 0), 5478183],\n",
       " [datetime.datetime(2016, 1, 2, 11, 0), 5478262],\n",
       " [datetime.datetime(2016, 1, 2, 15, 0), 5478519],\n",
       " [datetime.datetime(2016, 1, 2, 19, 0), 5478940],\n",
       " [datetime.datetime(2016, 1, 2, 23, 0), 5479213],\n",
       " [datetime.datetime(2016, 1, 3, 3, 0), 5479279],\n",
       " [datetime.datetime(2016, 1, 3, 7, 0), 5479282],\n",
       " [datetime.datetime(2016, 1, 3, 11, 0), 5479344],\n",
       " [datetime.datetime(2016, 1, 3, 15, 0), 5479558]]"
      ]
     },
     "execution_count": 6,
     "metadata": {},
     "output_type": "execute_result"
    }
   ],
   "source": [
    "turnstilets['A002','R051','02-00-00','59 ST'][0:10]"
   ]
  },
  {
   "cell_type": "markdown",
   "metadata": {
    "collapsed": true
   },
   "source": [
    "#####Q3. Every n hours (n = 4). We want daily totals. The total is cumulative so you must subtract."
   ]
  },
  {
   "cell_type": "code",
   "execution_count": 7,
   "metadata": {
    "collapsed": false
   },
   "outputs": [],
   "source": [
    "daily = defaultdict(list)\n",
    "for k, v in turnstilets.iteritems():\n",
    "    previous = 0\n",
    "    current = 0\n",
    "    delta = 0\n",
    "    for line in v:\n",
    "        if v.index(line) % 6 == 0:\n",
    "            dailyvalue = []\n",
    "            # convert datetime to date and append to daily value\n",
    "            dailyvalue.append(line[0].date())\n",
    "            # current is entries\n",
    "            current = line[1]\n",
    "            # today's minus yesterday's\n",
    "            delta = current - previous\n",
    "            dailyvalue.append(delta)\n",
    "            # append date/value pair to key\n",
    "            # exclude first date of every key\n",
    "            if previous != 0 and delta >= 0: \n",
    "                daily[k].append(dailyvalue)\n",
    "            previous = current"
   ]
  },
  {
   "cell_type": "code",
   "execution_count": 8,
   "metadata": {
    "collapsed": false
   },
   "outputs": [
    {
     "data": {
      "text/plain": [
       "[[datetime.date(2016, 1, 3), 1099],\n",
       " [datetime.date(2016, 1, 4), 758],\n",
       " [datetime.date(2016, 1, 5), 1758],\n",
       " [datetime.date(2016, 1, 6), 1641]]"
      ]
     },
     "execution_count": 8,
     "metadata": {},
     "output_type": "execute_result"
    }
   ],
   "source": [
    "daily['A002','R051','02-00-00','59 ST'][0:4]"
   ]
  },
  {
   "cell_type": "markdown",
   "metadata": {},
   "source": [
    "#####Q4. plot the daily time series for one turnstile"
   ]
  },
  {
   "cell_type": "code",
   "execution_count": 9,
   "metadata": {
    "collapsed": true
   },
   "outputs": [],
   "source": [
    "%matplotlib inline\n",
    "import matplotlib.pyplot as plt"
   ]
  },
  {
   "cell_type": "markdown",
   "metadata": {},
   "source": [
    "Take the list of [(date1, count1), (date2, count2), ...], for the turnstile and turn it into two lists: dates and counts."
   ]
  },
  {
   "cell_type": "code",
   "execution_count": 10,
   "metadata": {
    "collapsed": false
   },
   "outputs": [],
   "source": [
    "dates = [d for d, c in sorted(daily['A002','R051','02-00-00','59 ST'])]\n",
    "counts = [c for d, c in sorted(daily['A002','R051','02-00-00','59 ST'])]"
   ]
  },
  {
   "cell_type": "code",
   "execution_count": 11,
   "metadata": {
    "collapsed": false
   },
   "outputs": [
    {
     "data": {
      "text/plain": [
       "[<matplotlib.lines.Line2D at 0x113aee810>]"
      ]
     },
     "execution_count": 11,
     "metadata": {},
     "output_type": "execute_result"
    },
    {
     "data": {
      "image/png": "[encoded data removed]",
      "text/plain": [
       "<matplotlib.figure.Figure at 0x1139ed7d0>"
      ]
     },
     "metadata": {},
     "output_type": "display_data"
    }
   ],
   "source": [
    "plt.figure(figsize=(10,3))\n",
    "plt.plot(dates,counts)"
   ]
  },
  {
   "cell_type": "markdown",
   "metadata": {},
   "source": [
    "#####Q5. Combine turnstiles at each ControlArea/Unit/Station combination."
   ]
  },
  {
   "cell_type": "code",
   "execution_count": 13,
   "metadata": {
    "collapsed": false
   },
   "outputs": [],
   "source": [
    "units = defaultdict(list)\n",
    "\n",
    "# make keys CA/Unit/Station\n",
    "for k, v in daily.iteritems():\n",
    "    key = k[0:2]+k[3:]\n",
    "    if key not in units:\n",
    "        units[key] = []\n",
    "    units[key].append(daily[k])\n",
    "\n",
    "chal5 = defaultdict(list)\n",
    "\n",
    "# unzip dates in {units} values\n",
    "# sum up entries across the same date\n",
    "# re-populate new dict {chal5}\n",
    "for k, v in units.items():\n",
    "    v = zip(*v)\n",
    "    chal5[k] = []\n",
    "    for dt in v:\n",
    "        dtsum = 0\n",
    "        for turnstile in dt:\n",
    "            dtsum += turnstile[1]\n",
    "        dtpair = [dt[0][0], dtsum]\n",
    "        chal5[k].append(dtpair)"
   ]
  },
  {
   "cell_type": "code",
   "execution_count": 14,
   "metadata": {
    "collapsed": false
   },
   "outputs": [
    {
     "data": {
      "text/plain": [
       "[[datetime.date(2016, 1, 3), 10830],\n",
       " [datetime.date(2016, 1, 4), 7982],\n",
       " [datetime.date(2016, 1, 5), 17156],\n",
       " [datetime.date(2016, 1, 6), 16463],\n",
       " [datetime.date(2016, 1, 7), 17865],\n",
       " [datetime.date(2016, 1, 8), 17924],\n",
       " [datetime.date(2015, 12, 27), 8885],\n",
       " [datetime.date(2015, 12, 28), 7751],\n",
       " [datetime.date(2015, 12, 29), 16091],\n",
       " [datetime.date(2015, 12, 30), 15811]]"
      ]
     },
     "execution_count": 14,
     "metadata": {},
     "output_type": "execute_result"
    }
   ],
   "source": [
    "chal5['A002','R051','59 ST'][0:10]"
   ]
  },
  {
   "cell_type": "markdown",
   "metadata": {
    "collapsed": true
   },
   "source": [
    "######Q6. Aggregate to station-level"
   ]
  },
  {
   "cell_type": "code",
   "execution_count": 16,
   "metadata": {
    "collapsed": false
   },
   "outputs": [],
   "source": [
    "# same as above. probs should've modularized in some way.\n",
    "temp6 = defaultdict(list)\n",
    "# make temp list and populate with keys of stations\n",
    "for k, v in chal5.iteritems():\n",
    "    key = k[2]\n",
    "    temp6[key].append(chal5[k])\n",
    "\n",
    "station = defaultdict(list)\n",
    "\n",
    "for k, v in temp6.items():\n",
    "    v = zip(*v)\n",
    "    for dt in v:\n",
    "        dtsum = 0\n",
    "        for unit in dt:\n",
    "            dtsum += unit[1]\n",
    "        dtpair = [dt[0][0], dtsum]\n",
    "        station[k].append(dtpair)"
   ]
  },
  {
   "cell_type": "markdown",
   "metadata": {},
   "source": [
    "#####Q7. Plot time-series for a station"
   ]
  },
  {
   "cell_type": "code",
   "execution_count": 20,
   "metadata": {
    "collapsed": false
   },
   "outputs": [
    {
     "name": "stdout",
     "output_type": "stream",
     "text": [
      "['CYPRESS AV', '5 AV/53 ST', 'NEWKIRK PLAZA', 'PATH WTC', 'HUNTS POINT AV', 'SUTTER AV', '149/GRAND CONC', 'BROAD ST', 'GRAND-NEWTOWN', 'EASTCHSTER/DYRE', 'HIGH ST', 'BEVERLY RD', 'ATLANTIC AV', 'WAKEFIELD/241', 'CROWN HTS-UTICA', 'VAN SICLEN AV', 'BEVERLEY ROAD', '18 AV', 'BRIARWOOD', '135 ST', 'CORTELYOU RD', 'LORIMER ST', '21 ST-QNSBRIDGE', 'VAN SICLEN AVE', 'SUTPHIN-ARCHER', '67 AV', 'BAY RIDGE AV', 'NECK RD', 'CYPRESS HILLS', '3 AV 138 ST', '14TH STREET', 'W 8 ST-AQUARIUM', '42 ST-BRYANT PK', 'BEACH 67 ST', '71 ST', 'NEWARK C', 'PRESIDENT ST', '116 ST-COLUMBIA', 'SUTTER AV-RUTLD', 'KOSCIUSZKO ST', '3 AV', 'BRONX PARK EAST', '8 ST-NYU', 'TIMES SQ-42 ST', '75 ST-ELDERTS', 'GROVE STREET', 'QUEENS PLAZA', 'CASTLE HILL AV', 'FRANKLIN AV', \"B'WAY-LAFAYETTE\"]\n"
     ]
    }
   ],
   "source": [
    "# sample some stations\n",
    "sample = [key for key in station.keys()[0:50]]\n",
    "print sample"
   ]
  },
  {
   "cell_type": "code",
   "execution_count": 19,
   "metadata": {
    "collapsed": false
   },
   "outputs": [],
   "source": [
    "dates_station = [d for d, c in sorted(station['CROWN HTS-UTICA'])]\n",
    "counts_station = [c for d, c in sorted(station['CROWN HTS-UTICA'])]"
   ]
  },
  {
   "cell_type": "code",
   "execution_count": 21,
   "metadata": {
    "collapsed": false
   },
   "outputs": [
    {
     "data": {
      "text/plain": [
       "[<matplotlib.lines.Line2D at 0x113bb3650>]"
      ]
     },
     "execution_count": 21,
     "metadata": {},
     "output_type": "execute_result"
    },
    {
     "data": {
      "image/png": "[encoded data removed]",
      "text/plain": [
       "<matplotlib.figure.Figure at 0x113b8ad10>"
      ]
     },
     "metadata": {},
     "output_type": "display_data"
    }
   ],
   "source": [
    "plt.figure(figsize=(10,3))\n",
    "plt.plot(dates_station, counts_station)"
   ]
  },
  {
   "cell_type": "code",
   "execution_count": null,
   "metadata": {
    "collapsed": true
   },
   "outputs": [],
   "source": []
  }
 ],
 "metadata": {
  "kernelspec": {
   "display_name": "Python 2",
   "language": "python",
   "name": "python2"
  },
  "language_info": {
   "codemirror_mode": {
    "name": "ipython",
    "version": 2
   },
   "file_extension": ".py",
   "mimetype": "text/x-python",
   "name": "python",
   "nbconvert_exporter": "python",
   "pygments_lexer": "ipython2",
   "version": "2.7.10"
  }
 },
 "nbformat": 4,
 "nbformat_minor": 0
}
